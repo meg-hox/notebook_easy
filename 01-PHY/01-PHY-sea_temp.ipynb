{
 "cells": [
  {
   "cell_type": "markdown",
   "metadata": {},
   "source": [
    "![header](https://i.imgur.com/I4ake6d.jpg)"
   ]
  },
  {
   "cell_type": "markdown",
   "metadata": {},
   "source": [
    "# COPERNICUS MARINE PHYSICAL SOUTH AMERICA TRAINING\n",
    "\n",
    "<div style=\"text-align: right\"><i> 01-PHY-01 </i></div>"
   ]
  },
  {
   "cell_type": "markdown",
   "metadata": {},
   "source": [
    "*Release date: June 2022*"
   ]
  },
  {
   "cell_type": "markdown",
   "metadata": {},
   "source": [
    "\n",
    "<center><h1>How to visualize maps of Temperature</h1></center>"
   ]
  },
  {
   "cell_type": "markdown",
   "metadata": {},
   "source": [
    "<div class=\"alert alert-block alert-warning\">\n",
    "    <h3>Before starting, read carefully the following execution notes</h3>\n",
    "    <ul><li>\n",
    "        Execute each cell through the <button class=\"btn btn-default btn-xs\"><i class=\"icon-play fa fa-play\">\n",
    "        </i></button> button from the icons menu above the notebook (otherwise press the keyboard shortcut `Shift` + `Enter`).\n",
    "        </li>\n",
    "    <li>\n",
    "        If for any reason the notebook stops working, from the same menu click on the <button class=\"btn btn-default btn-xs\"><i class=\"fa fa-repeat icon-repeat\"></i></button> button. Then, in the text menu above the icons one, click on \"Cell\" and select \"Run All Above\".\n",
    "        </li></ul>\n",
    "</div>"
   ]
  },
  {
   "cell_type": "markdown",
   "metadata": {},
   "source": [
    "***"
   ]
  },
  {
   "cell_type": "markdown",
   "metadata": {},
   "source": [
    "# Table of contents\n",
    "- [1. Introduction](#1.-Introduction)\n",
    "- [2. About the data](#2.-About-the-data)\n",
    "- [3. Download the data](#3.-Download-the-data)\n",
    "- [4. Install the packages](#4.-Install-the-packages)\n",
    "- [5. Explore the data](#5.-Explore-the-data) \n",
    "<!-- - [4. Conclusion](#4.-Conclusion) -->\n",
    "***"
   ]
  },
  {
   "cell_type": "markdown",
   "metadata": {},
   "source": [
    "# 1. Introduction"
   ]
  },
  {
   "cell_type": "markdown",
   "metadata": {},
   "source": [
    "[Go back to the \"Table of contents\"](#Table-of-contents)"
   ]
  },
  {
   "cell_type": "markdown",
   "metadata": {},
   "source": [
    "The objective of this exercise is to use the CMEMS GLO-MFC model products to visualize the main physical fields in the Malvinas area.\n",
    "\n",
    "In particular, you will display:\n",
    "\n",
    "- horizontal maps of the different 2D and 3D variables, the latter also at different depths for two different months (January 2011 and August 2011) ????? DA TOGLIERE\n",
    "- vertical sections of temperature along a transect in the Malvinas area highlighting the vertical structure of these fields in two different seasons."
   ]
  },
  {
   "cell_type": "markdown",
   "metadata": {},
   "source": [
    "***"
   ]
  },
  {
   "cell_type": "markdown",
   "metadata": {},
   "source": [
    "# 2. About the data"
   ]
  },
  {
   "cell_type": "markdown",
   "metadata": {},
   "source": [
    "[Go back to the \"Table of contents\"](#Table-of-contents)"
   ]
  },
  {
   "cell_type": "markdown",
   "metadata": {},
   "source": [
    "## Model description"
   ]
  },
  {
   "cell_type": "markdown",
   "metadata": {},
   "source": [
    "### This example is based on the product: [GLOBAL_REANALYSIS_PHY_001_030](https://resources.marine.copernicus.eu/product-detail/GLOBAL_MULTIYEAR_PHY_001_030/INFORMATION)"
   ]
  },
  {
   "cell_type": "markdown",
   "metadata": {},
   "source": [
    "The GLORYS12V1 product is the CMEMS global ocean eddy-resolving (1/12° horizontal resolution, 50 vertical levels) reanalysis covering the altimetry (1993 onward).\n",
    "\n",
    "It is based largely on the current real-time global forecasting CMEMS system. The model component is the NEMO platform driven at surface by ECMWF ERA-Interim then ERA5 reanalyses for recent years. Observations are assimilated by means of a reduced-order Kalman filter. Along track altimeter data (Sea Level Anomaly), Satellite Sea Surface Temperature, Sea Ice Concentration and In situ Temperature and Salinity vertical Profiles are jointly assimilated. Moreover, a 3D-VAR scheme provides a correction for the slowly-evolving large-scale biases in temperature and salinity.\n",
    "\n",
    "This product includes daily and monthly mean files for temperature, salinity, currents, sea level, mixed layer depth and ice parameters from the top to the bottom. The global ocean output files are displayed on a standard regular grid at 1/12° (approximatively 8 km) and on 50 standard levels."
   ]
  },
  {
   "cell_type": "markdown",
   "metadata": {},
   "source": [
    "<img src=\"./img/GLOBAL_REANALYSIS_PHY_001_030_table1.png\">"
   ]
  },
  {
   "cell_type": "markdown",
   "metadata": {},
   "source": [
    "## Get more info on the product\n",
    "\n",
    "1. You can find info on this product and access to the download services in the [dedicated Product Page on Copernicus Marine (CMEMS) Web portal](https://resources.marine.copernicus.eu/product-detail/GLOBAL_MULTIYEAR_PHY_001_030/INFORMATION)\n",
    "<br><br>\n",
    "2. For **detailed information** about the product, please consult the **document**: [Product User Manual (PUM)](./docs/CMEMS-GLO-PUM-001-030.pdf)\n",
    "<br><br>\n",
    "3. For information about **the quality and validation** of the product, please consult the **document**: [Quality Information Document (QUID)](./docs/CMEMS-GLO-QUID-001-030.pdf)"
   ]
  },
  {
   "cell_type": "markdown",
   "metadata": {},
   "source": [
    "***"
   ]
  },
  {
   "cell_type": "markdown",
   "metadata": {},
   "source": [
    "# 3. Download the data"
   ]
  },
  {
   "cell_type": "markdown",
   "metadata": {},
   "source": [
    "[Go back to the \"Table of contents\"](#Table-of-contents)"
   ]
  },
  {
   "cell_type": "markdown",
   "metadata": {},
   "source": [
    "## Parameters used for downloading the data\n",
    "\n",
    "\n",
    "| Parameter | Value |\n",
    "| :---: | :---|\n",
    "| **Product** | GLOBAL_MULTIYEAR_PHY_001_030 |\n",
    "| **Dataset** | cmems_mod_glo_phy_my_0.083_P1M-m |\n",
    "| **variables** | thetao, mlost, so, uo, vo|\n",
    "| **Frequency** | monthly |\n",
    "| **Lat min** | -56 |\n",
    "| **Lat max** | -36 |\n",
    "| **Lon min** | -65 |\n",
    "| **Lon max** | -42 | \n",
    "| **Timesteps** | 2011-01, 2011-08, 2015-04, 2015-05 |\n",
    "| **Depths** | from 0 to 1000 |\n",
    "| **Service for downloading** | SUBSETTER |\n",
    "| **Files total dimension** | ~100MB |"
   ]
  },
  {
   "cell_type": "markdown",
   "metadata": {},
   "source": [
    "## How to download the products?\n",
    "\n",
    "If you need some help about the different services for downloading the CMEMS products, please check this [tutorial](\n",
    "https://help-cmems.mercator-ocean.fr/en/articles/4469993-how-to-download-copernicus-marine-data)"
   ]
  },
  {
   "cell_type": "markdown",
   "metadata": {},
   "source": [
    "<div class=\"alert alert-block alert-warning\">\n",
    "    <b>Get the CMEMS User credentials</b>\n",
    "<hr>\n",
    "The data are already available in this notebook. But if you want to download the data by yourself, please be sure to have by your CMEMS User credentials. Otherwise please get them <a href=\"http://marine.copernicus.eu/services-portfolio/register-now/\" target=\"_blank\">here</a>."
   ]
  },
  {
   "cell_type": "markdown",
   "metadata": {},
   "source": [
    "## Install the *motuclient*\n",
    "\n",
    "Data can be alternatively downloaded with **motuclient**, a multiplatform python script to automate extraction of information from the Marine Copernicus portal. To install motuclient:"
   ]
  },
  {
   "cell_type": "markdown",
   "metadata": {},
   "source": [
    "```\n",
    "!pip install motuclient==1.8.4 --no-cache-dir\n",
    "```"
   ]
  },
  {
   "cell_type": "markdown",
   "metadata": {},
   "source": [
    "Write the command below:"
   ]
  },
  {
   "cell_type": "code",
   "execution_count": null,
   "metadata": {},
   "outputs": [],
   "source": []
  },
  {
   "cell_type": "markdown",
   "metadata": {},
   "source": [
    "To get more info on motuclient visit the related [web page](https://help-cmems.mercator-ocean.fr/en/articles/4796533-what-are-the-motu-client-motuclient-and-python-requirements)."
   ]
  },
  {
   "cell_type": "markdown",
   "metadata": {},
   "source": [
    "## Download the products"
   ]
  },
  {
   "cell_type": "markdown",
   "metadata": {},
   "source": [
    "Using *motuclient* you'll be able to download data with the following command lines. "
   ]
  },
  {
   "cell_type": "markdown",
   "metadata": {},
   "source": [
    "*Consider that there is a different command line for each file that will be downloaded.*"
   ]
  },
  {
   "cell_type": "markdown",
   "metadata": {},
   "source": [
    "You have to copy each line to another cell for being execute (**NOTE:** don't forget to set username and password!)"
   ]
  },
  {
   "cell_type": "markdown",
   "metadata": {},
   "source": [
    "<div class=\"alert alert-block alert-info\">\n",
    "<b>Tip:</b> The same command lines can be used inside in your bash scripts. Of course you need to install the <i>motuclient</i>.\n",
    "</div>"
   ]
  },
  {
   "cell_type": "markdown",
   "metadata": {},
   "source": [
    "Set your CMEMS username and password:"
   ]
  },
  {
   "cell_type": "code",
   "execution_count": null,
   "metadata": {},
   "outputs": [],
   "source": [
    "config = {}\n",
    "config[\"user\"] = \"mhoxhaj\"\n",
    "config[\"pwd\"] = \"Presaelettrica6\""
   ]
  },
  {
   "cell_type": "markdown",
   "metadata": {},
   "source": [
    "Utility function:"
   ]
  },
  {
   "cell_type": "code",
   "execution_count": null,
   "metadata": {},
   "outputs": [],
   "source": [
    "def get_motu_cmd(config, variables):\n",
    "    cmd = list()\n",
    "    for k,v in config.items():\n",
    "        cmd.append(\"--{} '{}'\".format(k, str(v)))\n",
    "    cmd.append(\" \".join([\"--variable \" + v for v in variables]))\n",
    "    return \"python -m motuclient \" + \" \".join(cmd) "
   ]
  },
  {
   "cell_type": "markdown",
   "metadata": {},
   "source": [
    "Basic configuration for download"
   ]
  },
  {
   "cell_type": "code",
   "execution_count": null,
   "metadata": {},
   "outputs": [],
   "source": [
    "OUT_DIR = \"./data\"\n",
    "config[\"out-dir\"] = OUT_DIR"
   ]
  },
  {
   "cell_type": "markdown",
   "metadata": {},
   "source": [
    "Create the OUT_DIR if it doesn't exist:"
   ]
  },
  {
   "cell_type": "code",
   "execution_count": null,
   "metadata": {},
   "outputs": [],
   "source": [
    "import os\n",
    "if not os.path.exists(OUT_DIR):\n",
    "    os.makedirs(OUT_DIR) "
   ]
  },
  {
   "cell_type": "markdown",
   "metadata": {},
   "source": [
    "Variables:"
   ]
  },
  {
   "cell_type": "code",
   "execution_count": null,
   "metadata": {},
   "outputs": [],
   "source": [
    "variables = [\"uo\", \"vo\", \"thetao\" ]"
   ]
  },
  {
   "cell_type": "markdown",
   "metadata": {},
   "source": [
    "Dates:"
   ]
  },
  {
   "cell_type": "code",
   "execution_count": null,
   "metadata": {},
   "outputs": [],
   "source": [
    "dates = [\"2011-01-16 12:00:00\", \"2011-08-16 12:00:00\", \"2015-04-16 00:00:00\", \"2015-05-16 12:00:00\"]"
   ]
  },
  {
   "cell_type": "markdown",
   "metadata": {},
   "source": [
    "Configuration for the download:"
   ]
  },
  {
   "cell_type": "code",
   "execution_count": null,
   "metadata": {},
   "outputs": [],
   "source": [
    "config.update({\n",
    "    \"service-id\": \"GLOBAL_MULTIYEAR_PHY_001_030-TDS\",\n",
    "    \"product-id\": \"cmems_mod_glo_phy_my_0.083_P1M-m\",\n",
    "    \"motu\": \"https://my.cmems-du.eu/motu-web/Motu\",\n",
    "    \"longitude-min\": -65,\n",
    "    \"longitude-max\": -42,\n",
    "    \"latitude-min\": -56,\n",
    "    \"latitude-max\": -36,\n",
    "    \"depth-min\": 0,\n",
    "    \"depth-max\": 1000,\n",
    "})"
   ]
  },
  {
   "cell_type": "markdown",
   "metadata": {},
   "source": [
    "Execute the download of files:"
   ]
  },
  {
   "cell_type": "code",
   "execution_count": null,
   "metadata": {},
   "outputs": [],
   "source": [
    "import subprocess\n",
    "\n",
    "if not config[\"user\"] == \"USERNAME\":\n",
    "    for d in dates:\n",
    "        config['date-min'] = config['date-max'] = d\n",
    "        config[\"out-name\"] = d[0:10] + \".nc\"\n",
    "        cmd_line = get_motu_cmd(config, variables)\n",
    "        print(\"\\n--- Command line for downloading the data for {}: ---\\n\".format(d))\n",
    "        print(cmd_line, '\\n')\n",
    "        print(\"--- Start to download for {}: ---\\n\".format(d))\n",
    "        subprocess.run(cmd_line,  shell=True)\n",
    "else:\n",
    "    print(\"Please insert your CMEMS username and password in the cell above if you want to downdload the files\")"
   ]
  },
  {
   "cell_type": "markdown",
   "metadata": {},
   "source": [
    "Check if the file were created... "
   ]
  },
  {
   "cell_type": "code",
   "execution_count": null,
   "metadata": {},
   "outputs": [],
   "source": [
    "import glob\n",
    "glob.glob(OUT_DIR + \"/*.nc\")"
   ]
  },
  {
   "cell_type": "markdown",
   "metadata": {},
   "source": [
    "***"
   ]
  },
  {
   "cell_type": "markdown",
   "metadata": {},
   "source": [
    "# 4. Install the packages"
   ]
  },
  {
   "cell_type": "markdown",
   "metadata": {},
   "source": [
    "[Go back to the \"Table of contents\"](#Table-of-contents)"
   ]
  },
  {
   "cell_type": "markdown",
   "metadata": {},
   "source": [
    "## Required modules"
   ]
  },
  {
   "cell_type": "markdown",
   "metadata": {},
   "source": [
    "The following Python modules are needed for running the exercises:"
   ]
  },
  {
   "cell_type": "markdown",
   "metadata": {},
   "source": [
    "| Module name | Description |\n",
    "| :---: | :---|\n",
    "| **os** | [ Miscellaneous operating system interfaces](https://docs.python.org/3.7/library/os.html) for managing paths, creating directories,... |\n",
    "| **numpy** | [NumPy](https://numpy.org/) is the fundamental package for scientific computing with Python and for managing ND-arrays |\n",
    "| **xarray** | [Xarray](http://xarray.pydata.org/en/stable/) introduces labels in the form of dimensions, coordinates and attributes on top of raw NumPy-like arrays, which allows for a more intuitive, more concise, and less error-prone developer experience. |\n",
    "| **matplotlib** |[Matplotlib](https://matplotlib.org/) is a Python 2D plotting library which produces publication quality figures |"
   ]
  },
  {
   "cell_type": "markdown",
   "metadata": {},
   "source": [
    "## Modules installation\n",
    "\n",
    "Install the needed Python modules."
   ]
  },
  {
   "cell_type": "markdown",
   "metadata": {},
   "source": [
    "**Requirement: Python version > 3.x**"
   ]
  },
  {
   "cell_type": "markdown",
   "metadata": {},
   "source": [
    "Check your Python version:"
   ]
  },
  {
   "cell_type": "code",
   "execution_count": null,
   "metadata": {
    "scrolled": true
   },
   "outputs": [],
   "source": [
    "!python --version"
   ]
  },
  {
   "cell_type": "markdown",
   "metadata": {},
   "source": [
    "If you are using the standard *Anaconda3* installation, you can install the needed modules executing the following command:"
   ]
  },
  {
   "cell_type": "markdown",
   "metadata": {},
   "source": [
    "```\n",
    "conda install xarray netcdf4 dask matplotlib cartopy numpy\n",
    "```"
   ]
  },
  {
   "cell_type": "markdown",
   "metadata": {},
   "source": [
    "Write the command in the following cell:"
   ]
  },
  {
   "cell_type": "code",
   "execution_count": null,
   "metadata": {
    "tags": []
   },
   "outputs": [],
   "source": [
    "conda install xarray netcdf4 dask matplotlib cartopy numpy"
   ]
  },
  {
   "cell_type": "markdown",
   "metadata": {
    "scrolled": true
   },
   "source": [
    "***"
   ]
  },
  {
   "cell_type": "markdown",
   "metadata": {},
   "source": [
    "# 5. Explore the data"
   ]
  },
  {
   "cell_type": "markdown",
   "metadata": {},
   "source": [
    "[Go back to the \"Table of contents\"](#Table-of-contents)"
   ]
  },
  {
   "cell_type": "markdown",
   "metadata": {},
   "source": [
    "Create a dataset from the files:"
   ]
  },
  {
   "cell_type": "code",
   "execution_count": null,
   "metadata": {},
   "outputs": [],
   "source": [
    "import xarray as xr\n",
    "ds = xr.open_mfdataset(glob.glob(\"./data/*.nc\"))"
   ]
  },
  {
   "cell_type": "markdown",
   "metadata": {},
   "source": [
    "Open the dataset:"
   ]
  },
  {
   "cell_type": "code",
   "execution_count": null,
   "metadata": {},
   "outputs": [],
   "source": [
    "ds"
   ]
  },
  {
   "cell_type": "markdown",
   "metadata": {},
   "source": [
    "Another way for getting info:"
   ]
  },
  {
   "cell_type": "code",
   "execution_count": null,
   "metadata": {
    "tags": []
   },
   "outputs": [],
   "source": [
    "ds.info"
   ]
  },
  {
   "cell_type": "markdown",
   "metadata": {},
   "source": [
    "About the coordinates:"
   ]
  },
  {
   "cell_type": "code",
   "execution_count": null,
   "metadata": {
    "tags": []
   },
   "outputs": [],
   "source": [
    "ds.coords"
   ]
  },
  {
   "cell_type": "markdown",
   "metadata": {},
   "source": [
    "About the variables:"
   ]
  },
  {
   "cell_type": "code",
   "execution_count": null,
   "metadata": {
    "tags": []
   },
   "outputs": [],
   "source": [
    "ds.data_vars"
   ]
  },
  {
   "cell_type": "markdown",
   "metadata": {},
   "source": [
    "<div class=\"alert alert-block alert-info\">\n",
    "The dataset is a 3D dataset: it has depth levels!\n",
    "</div>"
   ]
  },
  {
   "cell_type": "markdown",
   "metadata": {},
   "source": [
    "Take a look at the time:"
   ]
  },
  {
   "cell_type": "code",
   "execution_count": null,
   "metadata": {
    "tags": []
   },
   "outputs": [],
   "source": [
    "ds.time"
   ]
  },
  {
   "cell_type": "markdown",
   "metadata": {},
   "source": [
    "Take a look at the depth levels:"
   ]
  },
  {
   "cell_type": "code",
   "execution_count": null,
   "metadata": {
    "tags": []
   },
   "outputs": [],
   "source": [
    "ds.depth"
   ]
  },
  {
   "cell_type": "markdown",
   "metadata": {},
   "source": [
    "Get info about the \"Temperature\" 3D field : "
   ]
  },
  {
   "cell_type": "code",
   "execution_count": null,
   "metadata": {},
   "outputs": [],
   "source": [
    "ds['thetao']"
   ]
  },
  {
   "cell_type": "markdown",
   "metadata": {},
   "source": [
    "Get info about \"Eastward Velocity\" 3D field:"
   ]
  },
  {
   "cell_type": "code",
   "execution_count": null,
   "metadata": {
    "tags": []
   },
   "outputs": [],
   "source": [
    "ds['uo']"
   ]
  },
  {
   "cell_type": "markdown",
   "metadata": {},
   "source": [
    "Get info about  \"Northward Velocity\" 3D field:"
   ]
  },
  {
   "cell_type": "code",
   "execution_count": null,
   "metadata": {
    "tags": []
   },
   "outputs": [],
   "source": [
    "ds['vo']"
   ]
  },
  {
   "cell_type": "markdown",
   "metadata": {},
   "source": [
    "# 6. Plot the data"
   ]
  },
  {
   "cell_type": "markdown",
   "metadata": {},
   "source": [
    "[Go back to the \"Table of contents\"](#Table-of-contents)"
   ]
  },
  {
   "cell_type": "markdown",
   "metadata": {},
   "source": [
    "### Import the packages"
   ]
  },
  {
   "cell_type": "markdown",
   "metadata": {},
   "source": [
    "For avoiding the warning messages during the execution and installation process, at first remove them:"
   ]
  },
  {
   "cell_type": "code",
   "execution_count": 1,
   "metadata": {
    "scrolled": true
   },
   "outputs": [],
   "source": [
    "import warnings\n",
    "warnings.filterwarnings('ignore')"
   ]
  },
  {
   "cell_type": "markdown",
   "metadata": {},
   "source": [
    "Import the packages:"
   ]
  },
  {
   "cell_type": "code",
   "execution_count": 2,
   "metadata": {},
   "outputs": [],
   "source": [
    "import numpy as np\n",
    "import matplotlib.pyplot as plt\n",
    "\n",
    "# from cartopy import config\n",
    "import cartopy\n",
    "import cartopy.crs as ccrs"
   ]
  },
  {
   "cell_type": "markdown",
   "metadata": {},
   "source": [
    "**getRangeIndexes**: function for getting the indexes of the array *arr* between the *var_min* and *var_max* values:"
   ]
  },
  {
   "cell_type": "code",
   "execution_count": null,
   "metadata": {},
   "outputs": [],
   "source": [
    "def getRangeIndexes(arr, var_min, var_max):\n",
    "    return np.where((arr >= var_min) & (arr <= var_max))[0]"
   ]
  },
  {
   "cell_type": "markdown",
   "metadata": {},
   "source": [
    "### Configure the variables"
   ]
  },
  {
   "cell_type": "code",
   "execution_count": null,
   "metadata": {},
   "outputs": [],
   "source": [
    "## Set the coordinates names used in the netcdf (see: ds.coords)\n",
    "lon_name = \"longitude\"\n",
    "lat_name = \"latitude\"\n",
    "time_name = \"time\"\n",
    "depth_name = \"depth\""
   ]
  },
  {
   "cell_type": "markdown",
   "metadata": {},
   "source": [
    "Do the same for the variables names (check the ds.data_vars outputs):"
   ]
  },
  {
   "cell_type": "code",
   "execution_count": null,
   "metadata": {},
   "outputs": [],
   "source": [
    "## Set the variable names\n",
    "tem_name = \"thetao\"\n",
    "uo_name = \"uo\"\n",
    "vo_name = \"vo\""
   ]
  },
  {
   "cell_type": "markdown",
   "metadata": {},
   "source": [
    "### Configure the plot"
   ]
  },
  {
   "cell_type": "markdown",
   "metadata": {},
   "source": [
    "Set the limits for the area: choose the min and max values for the coordinates (and comment with the symbol # the unnecessary ones!):  "
   ]
  },
  {
   "cell_type": "code",
   "execution_count": 11,
   "metadata": {},
   "outputs": [],
   "source": [
    "## Set lat-lon limits - FULL AREA\n",
    "lat_min, lat_max = ds[lat_name][0], ds[lat_name][-1]\n",
    "lon_min, lon_max = ds[lon_name][0], ds[lon_name][-1]\n",
    "\n",
    "# ## Set lat-lon limits - CUSTOM AREA\n",
    "# lon_min = -50\n",
    "# lon_max = -42\n",
    "# lat_min = -46\n",
    "# lat_max = -36"
   ]
  },
  {
   "cell_type": "code",
   "execution_count": 12,
   "metadata": {},
   "outputs": [],
   "source": [
    "## Set the lat/lon indexes\n",
    "lats_idx = getRangeIndexes(ds[lat_name], lat_min, lat_max)\n",
    "lons_idx = getRangeIndexes(ds[lon_name], lon_min, lon_max)\n",
    "## Set lons, lats                                               \n",
    "lons, lats = ds[lon_name][lons_idx], ds[lat_name][lats_idx]"
   ]
  },
  {
   "cell_type": "markdown",
   "metadata": {},
   "source": [
    "Set the plot configuration for each variable to plot:"
   ]
  },
  {
   "cell_type": "code",
   "execution_count": 13,
   "metadata": {},
   "outputs": [],
   "source": [
    "## Set the plot configuration for each variable to plot\n",
    "variables_conf = {\n",
    "    \"thetao\":\n",
    "        { \n",
    "          \"min_max\": [None, None], # Set the variable's min and max values for the plots and the colorbar \n",
    "          \"unit\": \"\\u2103\",        # unit\n",
    "          \"cmap\": \"rainbow\"         # colorbar palette\n",
    "        },\n",
    "    \"so\":\n",
    "        { \n",
    "          \"min_max\": [None, None], \n",
    "          \"unit\": \"psu\",\n",
    "          \"cmap\": \"rainbow\"\n",
    "        },\n",
    "    \"uo\":\n",
    "        { \n",
    "          \"min_max\": [0, 1], \n",
    "          \"unit\": \"m/s\",\n",
    "          \"cmap\": \"rainbow\"\n",
    "        },  \n",
    "}"
   ]
  },
  {
   "cell_type": "code",
   "execution_count": 15,
   "metadata": {},
   "outputs": [],
   "source": [
    "## Set the labels for the plot\n",
    "xlabel = 'longitude [deg]'\n",
    "ylabel = 'latitude [deg]'"
   ]
  },
  {
   "cell_type": "code",
   "execution_count": 16,
   "metadata": {},
   "outputs": [],
   "source": [
    "# Plot configuration\n",
    "width_inch = 18\n",
    "height_inch = 8\n",
    "\n",
    "# Axes labels\n",
    "title_size = 14"
   ]
  },
  {
   "cell_type": "markdown",
   "metadata": {},
   "source": [
    "### Generate the maps"
   ]
  },
  {
   "cell_type": "code",
   "execution_count": 18,
   "metadata": {
    "scrolled": false
   },
   "outputs": [
    {
     "data": {
      "text/plain": [
       "[]"
      ]
     },
     "execution_count": 18,
     "metadata": {},
     "output_type": "execute_result"
    },
    {
     "data": {
      "image/png": "[encoded data removed]",
      "text/plain": [
       "<Figure size 1296x576 with 4 Axes>"
      ]
     },
     "metadata": {
      "needs_background": "light"
     },
     "output_type": "display_data"
    }
   ],
   "source": [
    "## Set figure\n",
    "fig = plt.figure(figsize=(width_inch, height_inch))\n",
    "\n",
    "## Add the plot 1\n",
    "ax = fig.add_subplot(1, 2, 1, projection=ccrs.PlateCarree())\n",
    "\n",
    "## ---- Selected values --- #\n",
    "sel_time = \"2011-01-16T12:00\" # selected time\n",
    "sel_depth = 0 # selected depth in [m]\n",
    " \n",
    "## selected var to plot\n",
    "var_name = \"thetao\" # temperature\n",
    "# var_name = \"so\" # salinity \n",
    "#var_name = \"mlotst\" # mixed layer depth\n",
    "## ---- Selected values --- #\n",
    "\n",
    "## Are we considering a 3D variable? \n",
    "dataset_3D = True if depth_name in ds[var_name].coords else False\n",
    "\n",
    "## Prepare the data to plot\n",
    "data_to_plot = ds[var_name].sel(time=sel_time, method=\"nearest\").sel(latitude=lats, longitude=lons) \n",
    "title = \"{var} [{unit}] - {time}\".format(time=np.datetime_as_string(data_to_plot.time,'h'), \n",
    "                          var=data_to_plot.long_name, \n",
    "                          unit=variables_conf[var_name][\"unit\"])\n",
    "if (dataset_3D):\n",
    "    data_to_plot = data_to_plot.sel(depth=sel_depth, method=\"nearest\")\n",
    "    title += \" - {depth:.2f}[m]\".format(depth=data_to_plot.depth.data)\n",
    "                                                                     \n",
    "## Plot map                                                \n",
    "pc = plt.pcolormesh(lons, lats, data_to_plot, transform=ccrs.PlateCarree(), cmap=variables_conf[var_name][\"cmap\"],\n",
    "                    vmin=variables_conf[var_name][\"min_max\"][0], vmax=variables_conf[var_name][\"min_max\"][1])\n",
    "\n",
    "## Add the colorbar\n",
    "fig.colorbar(pc, ax=ax, orientation='vertical', shrink=0.70)\n",
    "# ax.set_global()\n",
    "\n",
    "\n",
    "## Add features\n",
    "ax.coastlines()\n",
    "ax.add_feature(cartopy.feature.OCEAN)\n",
    "ax.add_feature(cartopy.feature.LAND)\n",
    "\n",
    "\n",
    "## Add grid\n",
    "gl = ax.gridlines(crs=ccrs.PlateCarree(), \n",
    "                  draw_labels=True,\n",
    "                  linewidth=1.5, \n",
    "                  color='black', \n",
    "                  alpha=0.1, \n",
    "                  linestyle='--')\n",
    "gl.top_labels = False\n",
    "gl.right_labels = False\n",
    "\n",
    "## Add labels\n",
    "ax.set_title(title, fontsize=title_size, fontstyle=\"italic\", fontweight=\"bold\", pad=30)\n",
    "ax.set_xlabel(xlabel, labelpad=30, fontsize=12)\n",
    "ax.set_ylabel(ylabel, labelpad=40, fontsize=12)\n",
    "\n",
    "## calls needed for showing the labels...\n",
    "ax.set_xticks([])\n",
    "ax.set_yticks([])\n",
    "\n",
    "# ----------------------------------------------------------------------------------# \n",
    "\n",
    "## Add the plot 2\n",
    "ax = fig.add_subplot(1, 2, 2, projection=ccrs.PlateCarree())\n",
    "\n",
    "## ---- Selected values --- #\n",
    "sel_time = \"2011-08-16T12:00\" # selected time\n",
    "sel_depth = 0 # selected depth in [m]\n",
    "\n",
    "# selected var to plot \n",
    "var_name = \"thetao\" # temperature\n",
    "# var_name = \"so\" # salinity \n",
    "#var_name = \"mlotst\" # mixed layer depth\n",
    "## ---- Selected values --- #\n",
    "\n",
    "## Are we considering a 3D variable? \n",
    "dataset_3D = True if depth_name in ds[var_name].coords else False\n",
    "\n",
    "## Prepare the data to plot\n",
    "data_to_plot = ds[var_name].sel(time=sel_time, method=\"nearest\").sel(latitude=lats, longitude=lons) \n",
    "title = \"{var} [{unit}] - {time}\".format(time=np.datetime_as_string(data_to_plot.time,'h'), \n",
    "                          var=data_to_plot.long_name, \n",
    "                          unit=variables_conf[var_name][\"unit\"])\n",
    "if (dataset_3D):\n",
    "    data_to_plot = data_to_plot.sel(depth=sel_depth, method=\"nearest\")\n",
    "    title += \" - {depth:.2f}[m]\".format(depth=data_to_plot.depth.data)\n",
    "\n",
    "\n",
    "## Plot map\n",
    "pc = plt.pcolormesh(lons, lats, data_to_plot, transform=ccrs.PlateCarree(), cmap=variables_conf[var_name][\"cmap\"],\n",
    "                    vmin=variables_conf[var_name][\"min_max\"][0], vmax=variables_conf[var_name][\"min_max\"][1])\n",
    "\n",
    "## Add the colorbar\n",
    "fig.colorbar(pc, ax=ax, orientation='vertical', shrink=0.70)\n",
    "\n",
    "## Add features\n",
    "ax.coastlines()\n",
    "ax.add_feature(cartopy.feature.OCEAN)\n",
    "ax.add_feature(cartopy.feature.LAND)\n",
    "\n",
    "\n",
    "## Add grid\n",
    "gl = ax.gridlines(crs=ccrs.PlateCarree(), \n",
    "                  draw_labels=True,\n",
    "                  linewidth=1.5, \n",
    "                  color='black', \n",
    "                  alpha=0.1, \n",
    "                  linestyle='--')\n",
    "gl.top_labels = False\n",
    "gl.right_labels = False\n",
    "\n",
    "## Add labels\n",
    "ax.set_title(title, fontsize=title_size, fontstyle=\"italic\", fontweight=\"bold\", pad=30)\n",
    "ax.set_xlabel(xlabel, labelpad=30, fontsize=12)\n",
    "ax.set_ylabel(ylabel, labelpad=40, fontsize=12)\n",
    "\n",
    "## calls needed for showing the labels...\n",
    "ax.set_xticks([])\n",
    "ax.set_yticks([])"
   ]
  },
  {
   "cell_type": "markdown",
   "metadata": {},
   "source": [
    "# Conclusion"
   ]
  },
  {
   "cell_type": "markdown",
   "metadata": {},
   "source": [
    "<div class=\"alert alert-block alert-success\">\n",
    "    <b>CONGRATULATIONS</b><br>\n",
    "  \n",
    "--- \n",
    "\n",
    "#### Now you know how to plot the Global physical model provided by Copernicus Marine Service, for free, thanks to the European Commission.\n",
    "\n",
    "#### To go further, you can try to visualize other variables and diagnostics (spatial or vertical averages, standard deviations...)\n",
    "\n",
    "#### Hope you have enjoyed this session and let's do great science with our data.\n",
    "\n",
    "This training course is over but we'd love to hear from you about how we could improve it (topics, tools, storytelling, format, speed etc). "
   ]
  },
  {
   "cell_type": "markdown",
   "metadata": {},
   "source": [
    "[Go back to the \"Table of contents\"](#Table-of-contents)"
   ]
  }
 ],
 "metadata": {
  "finalized": {
   "timestamp": 1575910772531,
   "trusted": true
  },
  "kernelspec": {
   "display_name": "Python 3",
   "language": "python",
   "name": "python3"
  },
  "language_info": {
   "codemirror_mode": {
    "name": "ipython",
    "version": 3
   },
   "file_extension": ".py",
   "mimetype": "text/x-python",
   "name": "python",
   "nbconvert_exporter": "python",
   "pygments_lexer": "ipython3",
   "version": "3.8.8"
  }
 },
 "nbformat": 4,
 "nbformat_minor": 4
}
